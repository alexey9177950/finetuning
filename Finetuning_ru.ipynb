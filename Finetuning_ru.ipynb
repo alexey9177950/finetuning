{
 "cells": [
  {
   "cell_type": "code",
   "execution_count": null,
   "metadata": {
    "id": "iDmHlX1jdDUl"
   },
   "outputs": [],
   "source": [
    "! pip3 install transformers\n",
    "! pip3 install datasets"
   ]
  },
  {
   "cell_type": "code",
   "execution_count": null,
   "metadata": {
    "id": "vQVi-xChdGU5"
   },
   "outputs": [],
   "source": [
    "from google.colab import drive\n",
    "\n",
    "drive.mount('/content/gdrive')"
   ]
  },
  {
   "cell_type": "code",
   "execution_count": null,
   "metadata": {
    "id": "tv0u8hytcBYL"
   },
   "outputs": [],
   "source": [
    "from transformers import pipeline, AutoTokenizer, AutoModelForCausalLM, TrainerCallback\n",
    "import torch\n",
    "from os.path.import join\n",
    "\n",
    "DEVICE='cuda'\n",
    "\n",
    "\n",
    "def get_ru_model(checkpoint = \"sberbank-ai/rugpt3small_based_on_gpt2\"):\n",
    "    tokenizer = AutoTokenizer.from_pretrained(checkpoint)\n",
    "    model = AutoModelForCausalLM.from_pretrained(checkpoint).to(DEVICE)\n",
    "    return tokenizer, model\n",
    "\n",
    "\n",
    "def print_generations(prefix = \". \", n_samples=4, max_len=70, one_line=True):\n",
    "    sample_outputs = model.generate(\n",
    "        input_ids,\n",
    "        do_sample=True, \n",
    "        max_length=max_len, \n",
    "        top_k=100, \n",
    "        top_p=0.95, \n",
    "        num_return_sequences=n_samples,\n",
    "        pad_token_id=50256\n",
    "    )\n",
    "    for row in sample_outputs:\n",
    "        text = tokenizer.decode(row)\n",
    "        if one_line:\n",
    "            text = text.split(\"\\n\")[0]\n",
    "        print(text)\n",
    "\n",
    "\n",
    "\n",
    "class PringSamplingCallback(TrainerCallback):\n",
    "    def on_log(self, args, state, control, **kwargs):\n",
    "        print(\"=====\", \"progress:\", state.epoch, \"=========\")\n",
    "        print_generations()\n",
    "        print(\"==========================\")\n",
    "\n",
    "\n",
    "\n",
    "COLAB_DATA_PATH = \"/content/gdrive/MyDrive/datasets/\"\n",
    "OLDRU_PATH = join(COLAB_DATA_PATH, )\n",
    "DOST_PATH = \n",
    "TOLST_PATH = \n",
    "LENIN_PATH = "
   ]
  },
  {
   "cell_type": "code",
   "execution_count": 1,
   "metadata": {
    "colab": {
     "base_uri": "https://localhost:8080/"
    },
    "id": "manZX7Qsbjjx",
    "outputId": "fe30d65f-4ea2-409a-fd07-50ac183153d7"
   },
   "outputs": [
    {
     "name": "stdout",
     "output_type": "stream",
     "text": [
      "kekmde\n"
     ]
    }
   ],
   "source": [
    "print(\"kek\" + \"mde\")"
   ]
  },
  {
   "cell_type": "code",
   "execution_count": null,
   "metadata": {
    "id": "01pyN3LacPPE"
   },
   "outputs": [],
   "source": []
  }
 ],
 "metadata": {
  "colab": {
   "provenance": []
  },
  "kernelspec": {
   "display_name": "Python 3 (ipykernel)",
   "language": "python",
   "name": "python3"
  },
  "language_info": {
   "codemirror_mode": {
    "name": "ipython",
    "version": 3
   },
   "file_extension": ".py",
   "mimetype": "text/x-python",
   "name": "python",
   "nbconvert_exporter": "python",
   "pygments_lexer": "ipython3",
   "version": "3.10.9"
  }
 },
 "nbformat": 4,
 "nbformat_minor": 1
}
