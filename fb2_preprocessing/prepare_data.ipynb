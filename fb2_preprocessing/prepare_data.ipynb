{
 "cells": [
  {
   "cell_type": "code",
   "execution_count": 1,
   "id": "3943d5fc",
   "metadata": {},
   "outputs": [
    {
     "name": "stdout",
     "output_type": "stream",
     "text": [
      "Archive:  dost/Dostoevskiy_Belye-nochi.HL7lNg.516548.fb2.zip\n",
      "Archive:  dost/Dostoevskiy_Sobranie-povestey-i-rasskazov-v-odnom-tome.pVGvQQ.436420.fb2.zip\n",
      "Archive:  dost/Dostoevskiy_Idiot.7vpVog.523683.fb2.zip\n",
      "Archive:  dost/Dostoevskiy_Bratya-Karamazovy.3BMFZA.629032.fb2.zip\n",
      "Archive:  dost/Dostoevskiy_Zapiski-iz-mertvogo-doma.K-nG_A.417987.fb2.zip\n",
      "Archive:  dost/Dostoevskiy_Prestuplenie-i-nakazanie-Idiot.1LRhJQ.629033.fb2.zip\n",
      "Archive:  dost/Dostoevskiy_Prestuplenie-i-nakazanie.JA6t1w.169962.fb2.zip\n",
      "Archive:  dost/Dostoevskiy_Bratya-Karamazovy.oYRLLg.611779.fb2.zip\n",
      "Archive:  dost/Dostoevskiy_Besy.Ahth1w.642796.fb2.zip\n",
      "Archive:  dost/Dostoevskiy_Kak-opasno-predavatsya-chestolyubivym-snam.ndBz2w.411004.fb2.zip\n",
      "Archive:  dost/Dostoevskiy_Bednye-lyudi.D0eF6A.543627.fb2.zip\n",
      "Archive:  tolst/Tolstoy_Detstvo-Otrochestvo-Yunost_1_Detstvo.zWnRAg.411600.fb2.zip\n",
      "Archive:  tolst/Tolstoy_Sevastopolskie-rasskazy.bo2lxQ.543664.fb2.zip\n",
      "Archive:  tolst/Tolstoy_Detstvo-Otrochestvo-Yunost_3_Yunost.6oY7zQ.411599.fb2.zip\n",
      "Archive:  tolst/Tolstoy_Detstvo-Otrochestvo-Yunost_2_Otrochestvo.nMnR9A.411598.fb2.zip\n",
      "Archive:  tolst/Tolstoy_Anna-Karenina.uqtrrw.584771.fb2.zip\n",
      "Archive:  tolst/Tolstoy_BVL-Seriya-vtoraya_113_Voyna-i-mir-Tom-1-i-2.J-_yVg.484933.fb2.zip\n",
      "Archive:  tolst/Tolstoy_BVL-Seriya-vtoraya_114_Voyna-i-mir-Tom-3-i-4.CEVfbQ.403484.fb2.zip\n"
     ]
    }
   ],
   "source": [
    "import os\n",
    "import random\n",
    "from lxml import etree\n",
    "\n",
    "# https://github.com/side2k/fb2_to_txt\n",
    "def fb2_to_str(file_path):\n",
    "    tree = etree.parse(file_path)\n",
    "    root = tree.getroot()\n",
    "    ans = []\n",
    "    for element in root:\n",
    "        tag = element.xpath(\"local-name()\")\n",
    "        if tag == \"binary\":\n",
    "            continue\n",
    "        for text in element.itertext():\n",
    "            if text.strip():\n",
    "                ans.append(text)\n",
    "    return \"\\n\".join(ans)\n",
    "\n",
    "\n",
    "for author in [\"dost\", \"tolst\"]:\n",
    "    zip_files = [i for i in os.listdir(author) if i.endswith(\".zip\")]\n",
    "    for fname in zip_files:\n",
    "        os.system(f\"unzip -f {author}/{fname} -d {author}\")\n",
    "    \n",
    "    fb2_files = [i for i in os.listdir(author) if i.endswith(\".fb2\")]\n",
    "    texts = [fb2_to_str(os.path.join(author, fname)) for fname in fb2_files]\n",
    "    random.shuffle(texts)\n",
    "    \n",
    "    with open(os.path.join(author, author + \".txt\"), \"w\") as f_out:\n",
    "        f_out.write(\"\\n\".join(texts))"
   ]
  }
 ],
 "metadata": {
  "kernelspec": {
   "display_name": "jup_venv1",
   "language": "python",
   "name": "jup_venv1"
  },
  "language_info": {
   "codemirror_mode": {
    "name": "ipython",
    "version": 3
   },
   "file_extension": ".py",
   "mimetype": "text/x-python",
   "name": "python",
   "nbconvert_exporter": "python",
   "pygments_lexer": "ipython3",
   "version": "3.10.9"
  }
 },
 "nbformat": 4,
 "nbformat_minor": 5
}
